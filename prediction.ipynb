{
 "cells": [
  {
   "cell_type": "code",
   "execution_count": 5,
   "id": "440a78f0",
   "metadata": {},
   "outputs": [],
   "source": [
    "import pickle\n",
    "with open('regresseion_model.pkl','rb') as f:\n",
    "    reg_model=pickle.load(f)\n",
    "with open('scaler.pkl','rb') as f:\n",
    "    scale=pickle.load(f)    "
   ]
  }
 ],
 "metadata": {
  "kernelspec": {
   "display_name": "Python 3",
   "language": "python",
   "name": "python3"
  },
  "language_info": {
   "codemirror_mode": {
    "name": "ipython",
    "version": 3
   },
   "file_extension": ".py",
   "mimetype": "text/x-python",
   "name": "python",
   "nbconvert_exporter": "python",
   "pygments_lexer": "ipython3",
   "version": "3.12.6"
  }
 },
 "nbformat": 4,
 "nbformat_minor": 5
}
